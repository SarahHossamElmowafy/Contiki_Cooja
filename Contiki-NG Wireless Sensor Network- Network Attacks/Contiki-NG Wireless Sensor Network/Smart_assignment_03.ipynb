{
 "cells": [
  {
   "cell_type": "code",
   "execution_count": 1,
   "id": "c02b7d38",
   "metadata": {},
   "outputs": [],
   "source": [
    "import re\n",
    "import numpy as np\n",
    "import pandas as pd"
   ]
  },
  {
   "cell_type": "markdown",
   "id": "312c56c5",
   "metadata": {},
   "source": [
    "## Read readings file"
   ]
  },
  {
   "cell_type": "code",
   "execution_count": 2,
   "id": "2da5c562",
   "metadata": {},
   "outputs": [],
   "source": [
    "with open('senario1_readings30.txt') as f1:\n",
    "    lines_sen_01 = f1.readlines()\n",
    "with open('senario2_readings30.txt') as f2:\n",
    "    lines_sen_02 = f2.readlines()\n",
    "with open('senario1_readings2.txt') as f3:\n",
    "    lines_sen_03 = f3.readlines()\n",
    "with open('senario2_readings2.txt') as f4:\n",
    "    lines_sen_04 = f4.readlines()    "
   ]
  },
  {
   "cell_type": "markdown",
   "id": "d877b67b",
   "metadata": {},
   "source": [
    "## Extract readings in dataframe"
   ]
  },
  {
   "cell_type": "code",
   "execution_count": 3,
   "id": "9e577155",
   "metadata": {},
   "outputs": [],
   "source": [
    "# list to dictionary\n",
    "def Convert(lst):\n",
    "    res_dct = {lst[i]: lst[i + 1] for i in range(0, len(lst), 2)}\n",
    "    return res_dct\n",
    "\n",
    "def prepare_data(lines):\n",
    "    sensors_reading = lines[54:]\n",
    "    controller = []\n",
    "\n",
    "    for i in range(len(sensors_reading)):\n",
    "        if re.search(r'\\ Controller\\b', sensors_reading[i]):\n",
    "            controller.append(sensors_reading[i])\n",
    "    lst = []\n",
    "    for i in range(len(controller)):\n",
    "        lst.append(controller[i][37: -2].split())\n",
    "\n",
    "    reading_lst = []\n",
    "    for i in range(len(lst)):\n",
    "        reading_lst.append(Convert(lst[i]))\n",
    "    df = pd.DataFrame(reading_lst)    \n",
    "    \n",
    "    df.rename(columns={'Temperature:': 'Temperature', 'Humidity:': 'Humidity', 'Pressure:': 'Pressure'}, inplace=True)\n",
    "    df['Temperature'] = df['Temperature'].str.replace(',',' ')\n",
    "    df['Humidity'] = df['Humidity'].str.replace(',',' ')\n",
    "\n",
    "    df[\"Temperature\"] = pd.to_numeric(df[\"Temperature\"], downcast=\"float\")\n",
    "    df[\"Humidity\"] = pd.to_numeric(df[\"Humidity\"], downcast=\"float\")\n",
    "    df[\"Pressure\"] = pd.to_numeric(df[\"Pressure\"], downcast=\"float\")\n",
    "    \n",
    "    return df"
   ]
  },
  {
   "cell_type": "code",
   "execution_count": 4,
   "id": "b42d50a8",
   "metadata": {},
   "outputs": [],
   "source": [
    "df1 = prepare_data(lines_sen_01)\n",
    "df2 = prepare_data(lines_sen_02)\n",
    "df3 = prepare_data(lines_sen_03)\n",
    "df4 = prepare_data(lines_sen_04)"
   ]
  },
  {
   "cell_type": "markdown",
   "id": "75f3fb5b",
   "metadata": {},
   "source": [
    "## Calculate the mean value for each round "
   ]
  },
  {
   "cell_type": "code",
   "execution_count": 6,
   "id": "236d348d",
   "metadata": {},
   "outputs": [],
   "source": [
    "def calc_mean(df):\n",
    "    temp_5, humidity_5, pressure_5 = [], [] , []\n",
    "\n",
    "    for i in range(0, len(df), 5):\n",
    "        temp_5.append(np.mean(df['Temperature'].iloc[i: i + 5]))\n",
    "        humidity_5.append(np.mean(df['Humidity'].iloc[i: i + 5]))\n",
    "        pressure_5.append(np.mean(df['Pressure'].iloc[i: i + 5]))\n",
    "    return temp_5, humidity_5, pressure_5  "
   ]
  },
  {
   "cell_type": "code",
   "execution_count": 7,
   "id": "fe62ca7a",
   "metadata": {},
   "outputs": [],
   "source": [
    "# Senario 01 round 30\n",
    "temp01, humidity01, pressure01 = calc_mean(df1)\n",
    "# Senario 02 round 30\n",
    "temp02, humidity02, pressure02 = calc_mean(df2)\n",
    "# Senario 01 round 2\n",
    "temp03, humidity03, pressure03 = calc_mean(df3)\n",
    "# Senario 02 round 2\n",
    "temp04, humidity04, pressure04 = calc_mean(df4)"
   ]
  },
  {
   "cell_type": "markdown",
   "id": "8c6c2be0",
   "metadata": {},
   "source": [
    "## Add noise to data according to normal gussian distribution"
   ]
  },
  {
   "cell_type": "markdown",
   "id": "4b7f4f00",
   "metadata": {},
   "source": [
    "### Senario 1 round 30"
   ]
  },
  {
   "cell_type": "code",
   "execution_count": 8,
   "id": "27128254",
   "metadata": {},
   "outputs": [],
   "source": [
    "mu, sigma = 0, 1 # mean and standard deviation\n",
    "noise_data1 = np.random.normal(mu, sigma, 30)\n",
    "\n",
    "temp_noise1, humadity_noise1, pressure_noise1 = [], [], []\n",
    "\n",
    "for i in range(len(temp01)):\n",
    "    temp_noise1.append(temp01[i] + noise_data1[i])\n",
    "    humadity_noise1.append(humidity01[i] + noise_data1[i])\n",
    "    pressure_noise1.append(pressure01[i] + noise_data1[i])"
   ]
  },
  {
   "cell_type": "markdown",
   "id": "198c9a3b",
   "metadata": {},
   "source": [
    "### Senario 2 round 30"
   ]
  },
  {
   "cell_type": "code",
   "execution_count": 9,
   "id": "1d1fd72a",
   "metadata": {},
   "outputs": [],
   "source": [
    "mu, sigma = 0, 1 # mean and standard deviation\n",
    "noise_data2 = np.random.normal(mu, sigma, 114)\n",
    "\n",
    "temp_noise2, humadity_noise2, pressure_noise2 = [], [], []\n",
    "\n",
    "for i in range(len(temp02)):\n",
    "    temp_noise2.append(temp02[i] + noise_data2[i])\n",
    "    humadity_noise2.append(humidity02[i] + noise_data2[i])\n",
    "    pressure_noise2.append(pressure02[i] + noise_data2[i])"
   ]
  },
  {
   "cell_type": "markdown",
   "id": "60d46386",
   "metadata": {},
   "source": [
    "### Senario 1 round 2"
   ]
  },
  {
   "cell_type": "code",
   "execution_count": 10,
   "id": "10452bb7",
   "metadata": {},
   "outputs": [],
   "source": [
    "noise_data3 = np.random.normal(mu, sigma, 2)\n",
    "\n",
    "temp_noise3, humadity_noise3, pressure_noise3 = [], [], []\n",
    "\n",
    "for i in range(len(temp03)):\n",
    "    temp_noise3.append(temp03[i] + noise_data3[i])\n",
    "    humadity_noise3.append(humidity03[i] + noise_data3[i])\n",
    "    pressure_noise3.append(pressure03[i] + noise_data3[i])"
   ]
  },
  {
   "cell_type": "markdown",
   "id": "b5ea2980",
   "metadata": {},
   "source": [
    "### Senario 2 round 2"
   ]
  },
  {
   "cell_type": "code",
   "execution_count": 11,
   "id": "9ea20a41",
   "metadata": {},
   "outputs": [],
   "source": [
    "noise_data4 = np.random.normal(mu, sigma, 9)\n",
    "\n",
    "temp_noise4, humadity_noise4, pressure_noise4 = [], [], []\n",
    "\n",
    "for i in range(len(temp04)):\n",
    "    temp_noise4.append(temp04[i] + noise_data4[i])\n",
    "    humadity_noise4.append(humidity04[i] + noise_data4[i])\n",
    "    pressure_noise4.append(pressure04[i] + noise_data4[i])"
   ]
  },
  {
   "cell_type": "markdown",
   "id": "c1e390ac",
   "metadata": {},
   "source": [
    "### Estimated Error senario 1 round 30"
   ]
  },
  {
   "cell_type": "code",
   "execution_count": 12,
   "id": "af8dab55",
   "metadata": {},
   "outputs": [],
   "source": [
    "true_readings = [25.0, 40.0, 101000.0]\n",
    "error_temp1, error_humadity1, error_pressure1 = [], [], []\n",
    "for i in range(len(temp_noise1)):\n",
    "    error_temp1.append(np.absolute(temp_noise1[i] - true_readings[0]))\n",
    "    error_humadity1.append(np.absolute(humadity_noise1[i] - true_readings[1]))\n",
    "    error_pressure1.append(np.absolute(pressure_noise1[i] - true_readings[2]))"
   ]
  },
  {
   "cell_type": "code",
   "execution_count": 13,
   "id": "d9e30bf7",
   "metadata": {},
   "outputs": [
    {
     "name": "stdout",
     "output_type": "stream",
     "text": [
      "Average Temperature Error in Scenario 1: 3.298\n",
      "Average Humadity Error in Scenario 1   : 5.172\n",
      "Average Pressure Error in Scenario 1   : 12120.336\n"
     ]
    }
   ],
   "source": [
    "print(\"Average Temperature Error in Scenario 1: {:.3f}\".format(np.mean(error_temp1)))\n",
    "print(\"Average Humadity Error in Scenario 1   : {:.3f}\".format(np.mean(error_humadity1)))\n",
    "print(\"Average Pressure Error in Scenario 1   : {:.3f}\".format(np.mean(error_pressure1)))"
   ]
  },
  {
   "cell_type": "markdown",
   "id": "ebdfbbc6",
   "metadata": {},
   "source": [
    "### Estimated Error senario 2 round 30"
   ]
  },
  {
   "cell_type": "code",
   "execution_count": 25,
   "id": "a274a972",
   "metadata": {},
   "outputs": [],
   "source": [
    "error_temp2, error_humadity2, error_pressure2 = [], [], []\n",
    "for i in range(len(temp_noise2)):\n",
    "    error_temp2.append(np.absolute(temp_noise2[i] - true_readings[0]))\n",
    "    error_humadity2.append(np.absolute(humadity_noise2[i] - true_readings[1]))\n",
    "    error_pressure2.append(np.absolute(pressure_noise2[i] - true_readings[2]))"
   ]
  },
  {
   "cell_type": "code",
   "execution_count": 26,
   "id": "da13fb70",
   "metadata": {},
   "outputs": [
    {
     "name": "stdout",
     "output_type": "stream",
     "text": [
      "Average Temperature Error in Scenario 2: 1.326\n",
      "Average Humadity Error in Scenario 2   : 1.991\n",
      "Average Pressure Error in Scenario 2   : 5049.936\n"
     ]
    }
   ],
   "source": [
    "print(\"Average Temperature Error in Scenario 2: {:.3f}\".format(np.mean(error_temp2)))\n",
    "print(\"Average Humadity Error in Scenario 2   : {:.3f}\".format(np.mean(error_humadity2)))\n",
    "print(\"Average Pressure Error in Scenario 2   : {:.3f}\".format(np.mean(error_pressure2)))"
   ]
  },
  {
   "cell_type": "markdown",
   "id": "6fca45d6",
   "metadata": {},
   "source": [
    "### Estimated Error senario 1 round 2"
   ]
  },
  {
   "cell_type": "code",
   "execution_count": 27,
   "id": "fbe98791",
   "metadata": {},
   "outputs": [],
   "source": [
    "error_temp3, error_humadity3, error_pressure3 = [], [], []\n",
    "for i in range(len(temp_noise3)):\n",
    "    error_temp3.append(np.absolute(temp_noise3[i] - true_readings[0]))\n",
    "    error_humadity3.append(np.absolute(humadity_noise3[i] - true_readings[1]))\n",
    "    error_pressure3.append(np.absolute(pressure_noise3[i] - true_readings[2]))"
   ]
  },
  {
   "cell_type": "markdown",
   "id": "5d576bf6",
   "metadata": {},
   "source": [
    "### Estimated Error senario 2 round 2"
   ]
  },
  {
   "cell_type": "code",
   "execution_count": 28,
   "id": "057d82fe",
   "metadata": {},
   "outputs": [],
   "source": [
    "error_temp4, error_humadity4, error_pressure4 = [], [], []\n",
    "for i in range(len(temp_noise4)):\n",
    "    error_temp4.append(np.absolute(temp_noise4[i] - true_readings[0]))\n",
    "    error_humadity4.append(np.absolute(humadity_noise4[i] - true_readings[1]))\n",
    "    error_pressure4.append(np.absolute(pressure_noise4[i] - true_readings[2]))"
   ]
  },
  {
   "cell_type": "markdown",
   "id": "0582b15f",
   "metadata": {},
   "source": [
    "#### Method to calculate min, max, mean values"
   ]
  },
  {
   "cell_type": "code",
   "execution_count": 29,
   "id": "20c2b9f7",
   "metadata": {},
   "outputs": [],
   "source": [
    "def min_max_avg (err_list):\n",
    "    avg_val = np.mean(err_list)\n",
    "    min_val = np.min(err_list)\n",
    "    max_val = np.max(err_list)\n",
    "    print(\"Max Val: {:.2f}\".format(max_val))\n",
    "    print(\"Min Val: {:.2f}\".format(min_val))\n",
    "    print(\"Avg Val: {:.2f}\".format(avg_val))\n",
    "    return avg_val , min_val , max_val"
   ]
  },
  {
   "cell_type": "markdown",
   "id": "e6bb6f62",
   "metadata": {},
   "source": [
    "## Round 30"
   ]
  },
  {
   "cell_type": "markdown",
   "id": "92265da9",
   "metadata": {},
   "source": [
    "#### Temperature Senario 01 round 30"
   ]
  },
  {
   "cell_type": "code",
   "execution_count": 30,
   "id": "dad9d4ab",
   "metadata": {},
   "outputs": [
    {
     "name": "stdout",
     "output_type": "stream",
     "text": [
      "Max Val: 5.75\n",
      "Min Val: 0.78\n",
      "Avg Val: 3.30\n"
     ]
    }
   ],
   "source": [
    "avg_temp1 , min_temp1 , max_temp1 = min_max_avg(error_temp1)"
   ]
  },
  {
   "cell_type": "markdown",
   "id": "4d1dd3bf",
   "metadata": {},
   "source": [
    "#### Humadity Senario 01 round 30"
   ]
  },
  {
   "cell_type": "code",
   "execution_count": 31,
   "id": "76fb5ca4",
   "metadata": {},
   "outputs": [
    {
     "name": "stdout",
     "output_type": "stream",
     "text": [
      "Max Val: 7.42\n",
      "Min Val: 2.41\n",
      "Avg Val: 5.17\n"
     ]
    }
   ],
   "source": [
    "avg_humadity1 , min_humadity1 , max_humadity1 = min_max_avg(error_humadity1)"
   ]
  },
  {
   "cell_type": "markdown",
   "id": "130fe226",
   "metadata": {},
   "source": [
    "#### Pressure Senario 01 round 30"
   ]
  },
  {
   "cell_type": "code",
   "execution_count": 32,
   "id": "92843520",
   "metadata": {},
   "outputs": [
    {
     "name": "stdout",
     "output_type": "stream",
     "text": [
      "Max Val: 12123.16\n",
      "Min Val: 12118.10\n",
      "Avg Val: 12120.34\n"
     ]
    }
   ],
   "source": [
    "avg_pressure1 , min_pressure1 , max_pressure1 = min_max_avg(error_pressure1)"
   ]
  },
  {
   "cell_type": "markdown",
   "id": "b7251bbe",
   "metadata": {},
   "source": [
    "#### Temperature Senario 02 round 30"
   ]
  },
  {
   "cell_type": "code",
   "execution_count": 33,
   "id": "ca14d6f5",
   "metadata": {},
   "outputs": [
    {
     "name": "stdout",
     "output_type": "stream",
     "text": [
      "Max Val: 3.45\n",
      "Min Val: 0.01\n",
      "Avg Val: 1.33\n"
     ]
    }
   ],
   "source": [
    "avg_temp2 , min_temp2 , max_temp2 =  min_max_avg(error_temp2)"
   ]
  },
  {
   "cell_type": "markdown",
   "id": "db7358ad",
   "metadata": {},
   "source": [
    "#### Humadity Senario 02 round 30"
   ]
  },
  {
   "cell_type": "code",
   "execution_count": 34,
   "id": "2cc92f27",
   "metadata": {},
   "outputs": [
    {
     "name": "stdout",
     "output_type": "stream",
     "text": [
      "Max Val: 4.59\n",
      "Min Val: 0.15\n",
      "Avg Val: 1.99\n"
     ]
    }
   ],
   "source": [
    "avg_humadity2 , min_humadity2 , max_humadity2 = min_max_avg(error_humadity2)"
   ]
  },
  {
   "cell_type": "markdown",
   "id": "e2a8687a",
   "metadata": {},
   "source": [
    "#### Pressure Senario 02 round 30"
   ]
  },
  {
   "cell_type": "code",
   "execution_count": 35,
   "id": "75baf62d",
   "metadata": {
    "scrolled": true
   },
   "outputs": [
    {
     "name": "stdout",
     "output_type": "stream",
     "text": [
      "Max Val: 5052.30\n",
      "Min Val: 5047.25\n",
      "Avg Val: 5049.94\n"
     ]
    }
   ],
   "source": [
    "avg_pressure2 , min_pressure2 , max_pressure2 = min_max_avg(error_pressure2)"
   ]
  },
  {
   "cell_type": "markdown",
   "id": "2fdfc167",
   "metadata": {},
   "source": [
    "## Round 2"
   ]
  },
  {
   "cell_type": "markdown",
   "id": "47a3b970",
   "metadata": {},
   "source": [
    "#### Temperature Senario 01 round 2"
   ]
  },
  {
   "cell_type": "code",
   "execution_count": 36,
   "id": "1906de4b",
   "metadata": {},
   "outputs": [
    {
     "name": "stdout",
     "output_type": "stream",
     "text": [
      "Max Val: 3.21\n",
      "Min Val: 2.02\n",
      "Avg Val: 2.62\n"
     ]
    }
   ],
   "source": [
    "avg_temp3 , min_temp3 , max_temp3 = min_max_avg(error_temp3)"
   ]
  },
  {
   "cell_type": "markdown",
   "id": "f25436af",
   "metadata": {},
   "source": [
    "#### Humadity Senario 01 round 2"
   ]
  },
  {
   "cell_type": "code",
   "execution_count": 37,
   "id": "f924f965",
   "metadata": {},
   "outputs": [
    {
     "name": "stdout",
     "output_type": "stream",
     "text": [
      "Max Val: 3.89\n",
      "Min Val: 3.66\n",
      "Avg Val: 3.78\n"
     ]
    }
   ],
   "source": [
    "avg_hum3 , min_hum3 , max_hum3 = min_max_avg(error_humadity3)"
   ]
  },
  {
   "cell_type": "markdown",
   "id": "69510ba4",
   "metadata": {},
   "source": [
    "#### Pressure Senario 01 round 2"
   ]
  },
  {
   "cell_type": "code",
   "execution_count": 38,
   "id": "735894d2",
   "metadata": {},
   "outputs": [
    {
     "name": "stdout",
     "output_type": "stream",
     "text": [
      "Max Val: 12119.66\n",
      "Min Val: 12119.44\n",
      "Avg Val: 12119.55\n"
     ]
    }
   ],
   "source": [
    "avg_pressure3 , min_pressure3 , max_pressure3 = min_max_avg(error_pressure3)"
   ]
  },
  {
   "cell_type": "markdown",
   "id": "d02c5819",
   "metadata": {},
   "source": [
    "#### Temperature Senario 02 round 2"
   ]
  },
  {
   "cell_type": "code",
   "execution_count": 39,
   "id": "c3a32067",
   "metadata": {},
   "outputs": [
    {
     "name": "stdout",
     "output_type": "stream",
     "text": [
      "Max Val: 3.14\n",
      "Min Val: 0.38\n",
      "Avg Val: 1.67\n"
     ]
    }
   ],
   "source": [
    "avg_temp4 , min_temp4 , max_temp4 = min_max_avg(error_temp4)"
   ]
  },
  {
   "cell_type": "markdown",
   "id": "e584fba2",
   "metadata": {},
   "source": [
    "#### Humadity Senario 02 round 2"
   ]
  },
  {
   "cell_type": "code",
   "execution_count": 40,
   "id": "115e0c09",
   "metadata": {},
   "outputs": [
    {
     "name": "stdout",
     "output_type": "stream",
     "text": [
      "Max Val: 3.59\n",
      "Min Val: 0.20\n",
      "Avg Val: 1.71\n"
     ]
    }
   ],
   "source": [
    "avg_hum4 , min_hum4 , max_hum4 = min_max_avg(error_humadity4)"
   ]
  },
  {
   "cell_type": "markdown",
   "id": "1ad69ed4",
   "metadata": {},
   "source": [
    "#### Pressure Senario 02 round 2"
   ]
  },
  {
   "cell_type": "code",
   "execution_count": 41,
   "id": "17e60642",
   "metadata": {},
   "outputs": [
    {
     "name": "stdout",
     "output_type": "stream",
     "text": [
      "Max Val: 5051.38\n",
      "Min Val: 5047.35\n",
      "Avg Val: 5049.76\n"
     ]
    }
   ],
   "source": [
    "avg_pressure4 , min_pressure4 , max_pressure4 = min_max_avg(error_pressure4)"
   ]
  },
  {
   "cell_type": "code",
   "execution_count": null,
   "id": "6c9fee7d",
   "metadata": {},
   "outputs": [],
   "source": []
  }
 ],
 "metadata": {
  "kernelspec": {
   "display_name": "Python 3 (ipykernel)",
   "language": "python",
   "name": "python3"
  },
  "language_info": {
   "codemirror_mode": {
    "name": "ipython",
    "version": 3
   },
   "file_extension": ".py",
   "mimetype": "text/x-python",
   "name": "python",
   "nbconvert_exporter": "python",
   "pygments_lexer": "ipython3",
   "version": "3.8.10"
  }
 },
 "nbformat": 4,
 "nbformat_minor": 5
}
